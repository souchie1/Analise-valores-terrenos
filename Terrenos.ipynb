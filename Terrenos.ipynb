{
 "cells": [
  {
   "cell_type": "code",
   "execution_count": null,
   "id": "53548051",
   "metadata": {},
   "outputs": [],
   "source": [
    "import pandas as pd\n",
    "import numpy as np\n",
    "import matplotlib.pyplot as plt\n",
    "import plotly\n"
   ]
  },
  {
   "cell_type": "code",
   "execution_count": null,
   "id": "b6b76c57",
   "metadata": {},
   "outputs": [],
   "source": [
    "df = pd.read_csv(r'I:\\ARQUIVOS PROJETOS\\cleaned_data.csv')"
   ]
  },
  {
   "cell_type": "code",
   "execution_count": null,
   "id": "ec8ade8f",
   "metadata": {},
   "outputs": [],
   "source": [
    "df.head()"
   ]
  },
  {
   "cell_type": "code",
   "execution_count": null,
   "id": "b10ac26c",
   "metadata": {},
   "outputs": [],
   "source": [
    "df.shape"
   ]
  },
  {
   "cell_type": "code",
   "execution_count": null,
   "id": "8cb2fb99",
   "metadata": {},
   "outputs": [],
   "source": [
    "df = df.drop('Unnamed: 0', axis=1, errors='ignore')"
   ]
  },
  {
   "cell_type": "code",
   "execution_count": null,
   "id": "fe2cb271",
   "metadata": {},
   "outputs": [],
   "source": [
    "df.tail()"
   ]
  },
  {
   "cell_type": "code",
   "execution_count": null,
   "id": "39f33922",
   "metadata": {},
   "outputs": [],
   "source": [
    "df.columns"
   ]
  },
  {
   "cell_type": "code",
   "execution_count": null,
   "id": "4b650eea",
   "metadata": {},
   "outputs": [],
   "source": [
    "df.rename(columns={\n",
    "    'BOROUGH': 'DISTRITO',\n",
    "    'NEIGHBORHOOD': 'BAIRRO',\n",
    "    'BUILDING CLASS CATEGORY': 'CATEGORIA DE CLASSE DE EDIFICAÇÃO',\n",
    "    'TAX CLASS AT PRESENT': 'CLASSE DE IMPOSTO ATUAL',\n",
    "    'BLOCK': 'QUARTEIRÃO',\n",
    "    'LOT': 'LOTE',\n",
    "    'EASE-MENT': 'SERVENTIA',\n",
    "    'BUILDING CLASS AT PRESENT': 'CLASSE DE EDIFICAÇÃO ATUAL',\n",
    "    'ADDRESS': 'ENDEREÇO',\n",
    "    'APARTMENT NUMBER': 'NÚMERO DO APARTAMENTO',\n",
    "    'ZIP CODE': 'CÓDIGO POSTAL',\n",
    "    'RESIDENTIAL UNITS': 'UNIDADES RESIDENCIAIS',\n",
    "    'COMMERCIAL UNITS': 'UNIDADES COMERCIAIS',\n",
    "    'TOTAL UNITS': 'TOTAL DE UNIDADES',\n",
    "    'LAND SQUARE FEET': 'ÁREA DO TERRENO EM PÉS QUADRADOS',\n",
    "    'GROSS SQUARE FEET': 'ÁREA BRUTA EM PÉS QUADRADOS',\n",
    "    'YEAR BUILT': 'ANO DE CONSTRUÇÃO',\n",
    "    'TAX CLASS AT TIME OF SALE': 'CLASSE DE IMPOSTO NA HORA DA VENDA',\n",
    "    'BUILDING CLASS AT TIME OF SALE': 'CLASSE DE EDIFICAÇÃO NA HORA DA VENDA',\n",
    "    'SALE PRICE': 'PREÇO DE VENDA',\n",
    "    'SALE DATE': 'DATA DE VENDA',\n",
    "    'LATITUDE': 'LATITUDE',\n",
    "    'LONGITUDE': 'LONGITUDE'\n",
    "}, inplace=True)\n"
   ]
  },
  {
   "cell_type": "code",
   "execution_count": null,
   "id": "07d646fb",
   "metadata": {},
   "outputs": [],
   "source": [
    "df.head()"
   ]
  },
  {
   "cell_type": "code",
   "execution_count": null,
   "id": "7c801101",
   "metadata": {},
   "outputs": [],
   "source": [
    "df.columns"
   ]
  },
  {
   "cell_type": "code",
   "execution_count": null,
   "id": "9750217d",
   "metadata": {},
   "outputs": [],
   "source": [
    "df.info()"
   ]
  },
  {
   "cell_type": "code",
   "execution_count": null,
   "id": "68482ff7",
   "metadata": {},
   "outputs": [],
   "source": [
    "df.dtypes.value_counts()"
   ]
  },
  {
   "cell_type": "code",
   "execution_count": null,
   "id": "5d9edd72",
   "metadata": {},
   "outputs": [],
   "source": [
    "df['DATA DE VENDA'] = pd.to_datetime(df['DATA DE VENDA'], errors='coerce')"
   ]
  },
  {
   "cell_type": "code",
   "execution_count": null,
   "id": "b64aea32",
   "metadata": {},
   "outputs": [],
   "source": [
    "df.info()"
   ]
  },
  {
   "cell_type": "code",
   "execution_count": null,
   "id": "d40cbcf4",
   "metadata": {},
   "outputs": [],
   "source": [
    "df.isnull().sum()"
   ]
  },
  {
   "cell_type": "code",
   "execution_count": null,
   "id": "df65efe6",
   "metadata": {},
   "outputs": [],
   "source": [
    "df.isna().sum()"
   ]
  },
  {
   "cell_type": "code",
   "execution_count": null,
   "id": "1cb268dd",
   "metadata": {},
   "outputs": [],
   "source": [
    "df[df.isnull().T.any()]"
   ]
  },
  {
   "cell_type": "code",
   "execution_count": null,
   "id": "d948d332",
   "metadata": {},
   "outputs": [],
   "source": [
    "df['ENDEREÇO'].unique()"
   ]
  },
  {
   "cell_type": "code",
   "execution_count": null,
   "id": "6e4a98a7",
   "metadata": {},
   "outputs": [],
   "source": [
    "df['ENDEREÇO'].unique().sum()"
   ]
  },
  {
   "cell_type": "code",
   "execution_count": null,
   "id": "334bf93d",
   "metadata": {},
   "outputs": [],
   "source": [
    "enderecos_unicos = df['ENDEREÇO'].unique()\n",
    "\n",
    "# Imprime a lista de endereços únicos\n",
    "print(\"Lista de Endereços Únicos:\")\n",
    "for endereco in enderecos_unicos:\n",
    "    print(endereco)"
   ]
  },
  {
   "cell_type": "code",
   "execution_count": null,
   "id": "8865c207",
   "metadata": {},
   "outputs": [],
   "source": [
    "df['LATITUDE'].fillna('0', inplace=True)\n",
    "df['LONGITUDE'].fillna('0', inplace=True)"
   ]
  },
  {
   "cell_type": "code",
   "execution_count": null,
   "id": "97411e81",
   "metadata": {},
   "outputs": [],
   "source": [
    "df.isnull().sum()"
   ]
  },
  {
   "cell_type": "code",
   "execution_count": null,
   "id": "345959a0",
   "metadata": {},
   "outputs": [],
   "source": [
    "ax = df.boxplot(rot=45, grid=False)\n",
    "\n",
    "# Ajusta a rotação dos rótulos do eixo x\n",
    "plt.xticks(rotation=45, ha='right')\n",
    "\n",
    "# Define o título do gráfico\n",
    "plt.title('Boxplot das Colunas')\n",
    "\n",
    "# Exibe o gráfico\n",
    "plt.show()"
   ]
  },
  {
   "cell_type": "code",
   "execution_count": null,
   "id": "c1dd5908",
   "metadata": {},
   "outputs": [],
   "source": [
    "# Cria um boxplot para a coluna 'PREÇO DE VENDA'\n",
    "plt.boxplot(df['PREÇO DE VENDA'])\n",
    "\n",
    "# Ajusta o rótulo do eixo x\n",
    "plt.xticks([1], ['PREÇO DE VENDA'])\n",
    "\n",
    "# Define o título do gráfico\n",
    "plt.title('Boxplot do PREÇO DE VENDA')\n",
    "\n",
    "# Exibe o gráfico\n",
    "plt.show()"
   ]
  },
  {
   "cell_type": "code",
   "execution_count": null,
   "id": "6e1eea47",
   "metadata": {},
   "outputs": [],
   "source": [
    "from scipy.stats import iqr\n",
    "\n",
    "# Supondo que 'df' seja o nome do seu DataFrame\n",
    "# Substitua 'df' pelo nome real do seu DataFrame\n",
    "\n",
    "# Especifica a coluna para verificar outliers\n",
    "coluna_outliers = 'PREÇO DE VENDA'  # Substitua pelo nome real da coluna\n",
    "\n",
    "# Calcula o IQR da coluna\n",
    "q1 = df[coluna_outliers].quantile(0.25)\n",
    "q3 = df[coluna_outliers].quantile(0.75)\n",
    "iqr_value = iqr(df[coluna_outliers])\n",
    "\n",
    "# Define o limite para identificar outliers (por exemplo, 1.5 vezes o IQR)\n",
    "limite_superior = q3 + 1.5 * iqr_value\n",
    "limite_inferior = q1 - 1.5 * iqr_value\n",
    "\n",
    "# Identifica os outliers\n",
    "outliers = df[(df[coluna_outliers] > limite_superior) | (df[coluna_outliers] < limite_inferior)]\n",
    "\n",
    "# Exibe os outliers\n",
    "print(\"Outliers:\")\n",
    "print(outliers)\n"
   ]
  },
  {
   "cell_type": "code",
   "execution_count": null,
   "id": "9ba08012",
   "metadata": {},
   "outputs": [],
   "source": [
    "outliers"
   ]
  },
  {
   "cell_type": "code",
   "execution_count": null,
   "id": "40a51587",
   "metadata": {},
   "outputs": [],
   "source": [
    "df['PREÇO DE VENDA'].max()"
   ]
  },
  {
   "cell_type": "code",
   "execution_count": null,
   "id": "400b2fa8",
   "metadata": {},
   "outputs": [],
   "source": [
    "df['PREÇO DE VENDA'].min()"
   ]
  },
  {
   "cell_type": "code",
   "execution_count": null,
   "id": "0f5506e2",
   "metadata": {},
   "outputs": [],
   "source": [
    "df['PREÇO DE VENDA'].mean()"
   ]
  },
  {
   "cell_type": "code",
   "execution_count": null,
   "id": "8c37f1a5",
   "metadata": {},
   "outputs": [],
   "source": [
    "df.describe()"
   ]
  },
  {
   "cell_type": "code",
   "execution_count": null,
   "id": "c946f272",
   "metadata": {},
   "outputs": [],
   "source": [
    "# Agrupa o DataFrame por 'NEIGHBORHOOD' e calcula o preço máximo, mínimo e médio de venda\n",
    "resultados_por_bairro = df.groupby('BAIRRO')['PREÇO DE VENDA'].agg(['max', 'min', 'mean']).reset_index()\n",
    "\n",
    "# Renomeia as colunas para maior clareza\n",
    "resultados_por_bairro.columns = ['BAIRRO', 'Preço Máximo de Venda', 'Preço Mínimo de Venda', 'Preço Médio de Venda']\n",
    "\n",
    "# Exibe os resultados\n",
    "print(resultados_por_bairro)"
   ]
  },
  {
   "cell_type": "code",
   "execution_count": null,
   "id": "72b9d941",
   "metadata": {},
   "outputs": [],
   "source": [
    "resultados_por_bairro = df.groupby('BAIRRO')['ÁREA DO TERRENO EM PÉS QUADRADOS'].agg(['max', 'min', 'mean']).reset_index()\n",
    "\n",
    "# Renomeia as colunas para maior clareza\n",
    "resultados_por_bairro.columns = ['BAIRRO', 'Tamanho máximo do terreno', 'Tamanho mínimo do terreno', 'Tamanho médio do terreno']\n",
    "\n",
    "# Exibe os resultados\n",
    "print(resultados_por_bairro)"
   ]
  },
  {
   "cell_type": "code",
   "execution_count": null,
   "id": "8989a052",
   "metadata": {},
   "outputs": [],
   "source": [
    "# Calcula o preço por metro quadrado\n",
    "df['PREÇO POR M²'] = df['PREÇO DE VENDA'] / df['ÁREA DO TERRENO EM PÉS QUADRADOS']\n",
    "\n",
    "# Agrupa o DataFrame por 'NEIGHBORHOOD' e calcula o preço médio por metro quadrado\n",
    "preco_medio_por_m2 = df.groupby('BAIRRO')['PREÇO POR M²'].mean().reset_index()\n",
    "\n",
    "# Renomeia as colunas para maior clareza\n",
    "preco_medio_por_m2.columns = ['BAIRRO', 'Preço Médio por M²']\n",
    "\n",
    "# Exibe os resultados\n",
    "print(preco_medio_por_m2)\n"
   ]
  },
  {
   "cell_type": "code",
   "execution_count": null,
   "id": "a3a1a3ae",
   "metadata": {},
   "outputs": [],
   "source": [
    "# Converter 'LAND SQUARE FEET' para float (remover vírgulas e converter para float)\n",
    "df['ÁREA DO TERRENO EM PÉS QUADRADOS'] = df['ÁREA DO TERRENO EM PÉS QUADRADOS'].replace(',', '', regex=True).astype(float)\n",
    "\n",
    "# Calcular a área do terreno em metros quadrados\n",
    "df['ÁREA DO TERRENO (M²)'] = df['ÁREA DO TERRENO EM PÉS QUADRADOS'] * 0.092903\n",
    "\n",
    "# Calcular o preço de venda por metro quadrado\n",
    "df['PREÇO DE VENDA POR M²'] = df['PREÇO DE VENDA'] / df['ÁREA DO TERRENO (M²)']\n",
    "\n",
    "# Exibir o DataFrame resultante\n",
    "print(df[['LOTE', 'PREÇO DE VENDA POR M²']])\n"
   ]
  },
  {
   "cell_type": "code",
   "execution_count": null,
   "id": "48fd83a6",
   "metadata": {},
   "outputs": [],
   "source": [
    "import plotly.express as px\n",
    "\n",
    "# Cria um gráfico de barras interativo com Plotly Express\n",
    "fig = px.bar(preco_medio_por_m2, x='BAIRRO', y='Preço Médio por M²', \n",
    "             title='Preço Médio de Venda por Metro Quadrado por Bairro',\n",
    "             labels={'Preço Médio por M²': 'Preço Médio por M²', 'BAIRRO': 'Bairro'})\n",
    "\n",
    "# Ajusta o layout do gráfico\n",
    "fig.update_layout(xaxis=dict(tickangle=-45, tickmode='array'))\n",
    "\n",
    "# Exibe o gráfico interativo\n",
    "fig.show()"
   ]
  },
  {
   "cell_type": "code",
   "execution_count": null,
   "id": "9b109445",
   "metadata": {
    "scrolled": true
   },
   "outputs": [],
   "source": [
    "import plotly.express as px\n",
    "\n",
    "# Supondo que 'resultados_por_bairro' seja o DataFrame com os resultados\n",
    "# Substitua 'resultados_por_bairro' pelo nome real do seu DataFrame\n",
    "\n",
    "# Cria um gráfico de barras interativo com Plotly Express\n",
    "fig = px.bar(resultados_por_bairro, x='BAIRRO', y=['Tamanho mínimo do terreno', 'Tamanho médio do terreno', 'Tamanho máximo do terreno'], \n",
    "             title='Tamanho Médio dos Terrenos por Bairro',\n",
    "             labels={'value': 'Área do Terreno (pés quadrados)', 'variable': 'Estatística', 'BAIRRO': 'Bairro'},\n",
    "             barmode='group')\n",
    "\n",
    "# Ajusta o layout do gráfico\n",
    "fig.update_layout(xaxis=dict(tickangle=-45, tickmode='array'))\n",
    "\n",
    "# Exibe o gráfico interativo\n",
    "fig.show()\n"
   ]
  },
  {
   "cell_type": "code",
   "execution_count": null,
   "id": "c765fefa",
   "metadata": {},
   "outputs": [],
   "source": [
    "# Cria uma nova coluna indicando o ranking de cada terreno dentro de cada bairro\n",
    "df['Rank'] = df.groupby('BAIRRO').cumcount() + 1\n",
    "\n",
    "# Filtra apenas os 10 terrenos mais caros de cada bairro\n",
    "top_10_terrenos_por_bairro = df[df['Rank'] <= 10]\n",
    "\n",
    "# Cria um gráfico de barras interativo com Plotly Express\n",
    "fig = px.bar(top_10_terrenos_por_bairro, x='BAIRRO', y='PREÇO DE VENDA', color='Rank',\n",
    "             title='Top 10 Terrenos Mais Caros de Cada Bairro',\n",
    "             labels={'PREÇO DE VENDA': 'Preço de Venda', 'BAIRRO': 'Bairro', 'Rank': 'Ranking'})\n",
    "\n",
    "# Ajusta o layout do gráfico\n",
    "fig.update_layout(xaxis=dict(tickangle=-45, tickmode='array'))\n",
    "\n",
    "# Exibe o gráfico interativo\n",
    "fig.show()"
   ]
  },
  {
   "cell_type": "code",
   "execution_count": null,
   "id": "991ef113",
   "metadata": {},
   "outputs": [],
   "source": [
    "# Cria uma nova coluna indicando o ranking de cada terreno dentro de cada bairro\n",
    "df['Rank'] = df.groupby('BAIRRO').cumcount() + 1\n",
    "\n",
    "# Filtra apenas os 10 terrenos mais baratos de cada bairro\n",
    "bottom_10_terrenos_por_bairro = df[df['Rank'] <= 10]\n",
    "\n",
    "# Ordena o DataFrame pelos preços em ordem crescente\n",
    "bottom_10_terrenos_por_bairro = bottom_10_terrenos_por_bairro.sort_values(by='PREÇO DE VENDA')\n",
    "\n",
    "# Cria um gráfico de barras interativo com Plotly Express\n",
    "fig_bottom = px.bar(bottom_10_terrenos_por_bairro, x='BAIRRO', y='PREÇO DE VENDA', color='Rank',\n",
    "                    title='Top 10 Terrenos Mais Baratos de Cada Bairro',\n",
    "                    labels={'PREÇO DE VENDA': 'Preço de Venda', 'BAIRRO': 'Bairro', 'Rank': 'Ranking'})\n",
    "\n",
    "# Ajusta o layout do gráfico\n",
    "fig_bottom.update_layout(xaxis=dict(tickangle=-45, tickmode='array'))\n",
    "\n",
    "# Exibe o gráfico interativo\n",
    "fig_bottom.show()\n"
   ]
  },
  {
   "cell_type": "code",
   "execution_count": null,
   "id": "7b25f8e4",
   "metadata": {},
   "outputs": [],
   "source": [
    "# Ordena o DataFrame pelos preços em ordem decrescente\n",
    "top_10_terrenos_mais_caros = df.sort_values(by='PREÇO DE VENDA', ascending=False).head(10)\n",
    "\n",
    "# Cria um gráfico de barras interativo com Plotly Express\n",
    "fig_top_10 = px.bar(top_10_terrenos_mais_caros, x='BAIRRO', y='PREÇO DE VENDA',\n",
    "                    title='Top 10 Terrenos Mais Caros',\n",
    "                    labels={'PREÇO DE VENDA': 'Preço de Venda', 'BAIRRO': 'Bairro'})\n",
    "\n",
    "# Ajusta o layout do gráfico\n",
    "fig_top_10.update_layout(xaxis=dict(tickangle=-45, tickmode='array'))\n",
    "\n",
    "# Exibe o gráfico interativo\n",
    "fig_top_10.show()\n",
    "\n"
   ]
  },
  {
   "cell_type": "code",
   "execution_count": null,
   "id": "a45034e5",
   "metadata": {},
   "outputs": [],
   "source": [
    "# Ordena o DataFrame pelos preços em ordem crescente\n",
    "top_10_terrenos_mais_baratos = df.sort_values(by='PREÇO DE VENDA').head(10)\n",
    "\n",
    "# Cria um gráfico de barras interativo com Plotly Express\n",
    "fig_top_10_baratos = px.bar(top_10_terrenos_mais_baratos, x='BAIRRO', y='PREÇO DE VENDA',\n",
    "                            title='Top 10 Terrenos Mais Baratos',\n",
    "                            labels={'PREÇO DE VENDA': 'Preço de Venda', 'BAIRRO': 'Bairro'})\n",
    "\n",
    "# Ajusta o layout do gráfico\n",
    "fig_top_10_baratos.update_layout(xaxis=dict(tickangle=-45, tickmode='array'))\n",
    "\n",
    "# Exibe o gráfico interativo\n",
    "fig_top_10_baratos.show()\n"
   ]
  },
  {
   "cell_type": "code",
   "execution_count": null,
   "id": "3f04ae4b",
   "metadata": {},
   "outputs": [],
   "source": [
    "import plotly.express as px\n",
    "\n",
    "# Ordena o DataFrame pelos preços em ordem decrescente\n",
    "top_5_terrenos_mais_caros = df.sort_values(by='PREÇO DE VENDA', ascending=False).head(5)\n",
    "\n",
    "# Cria um gráfico de dispersão com marcadores para a localização dos terrenos\n",
    "fig_top_5_caros = px.scatter_mapbox(top_5_terrenos_mais_caros, \n",
    "                                    lat='LATITUDE', lon='LONGITUDE', \n",
    "                                    text='ENDEREÇO', color='PREÇO DE VENDA',\n",
    "                                    title='Localização dos 5 Terrenos Mais Caros',\n",
    "                                    labels={'PREÇO DE VENDA': 'Preço de Venda'})\n",
    "\n",
    "# Ajusta o layout do gráfico para usar um mapa do Mapbox\n",
    "fig_top_5_caros.update_layout(mapbox_style=\"open-street-map\", mapbox_zoom=10)\n",
    "fig_top_5_caros.update_layout(margin={\"r\":0,\"t\":0,\"l\":0,\"b\":0})\n",
    "\n",
    "# Exibe o gráfico interativo\n",
    "fig_top_5_caros.show()\n"
   ]
  },
  {
   "cell_type": "code",
   "execution_count": null,
   "id": "d7178587",
   "metadata": {},
   "outputs": [],
   "source": [
    "import plotly.express as px\n",
    "\n",
    "# Ordena o DataFrame pelos preços em ordem decrescente\n",
    "top_5_terrenos_mais_caros = df.sort_values(by='PREÇO DE VENDA', ascending=False).head(5)\n",
    "\n",
    "# Cria um gráfico de dispersão com marcadores para a localização dos terrenos\n",
    "fig_top_5_caros = px.scatter_mapbox(top_5_terrenos_mais_caros, \n",
    "                                    lat='LATITUDE', lon='LONGITUDE', \n",
    "                                    text='ENDEREÇO', color='PREÇO DE VENDA',\n",
    "                                    title='Localização dos 5 Terrenos Mais Caros',\n",
    "                                    labels={'PREÇO DE VENDA': 'Preço de Venda'})\n",
    "\n",
    "# Ajusta o layout do gráfico para usar um mapa do Mapbox\n",
    "fig_top_5_caros.update_layout(mapbox_style=\"open-street-map\", mapbox_zoom=10)\n",
    "fig_top_5_caros.update_layout(margin={\"r\":0,\"t\":0,\"l\":0,\"b\":0})\n",
    "\n",
    "# Exibe o gráfico interativo\n",
    "fig_top_5_caros.show()\n"
   ]
  },
  {
   "cell_type": "code",
   "execution_count": null,
   "id": "eb5fd1c1",
   "metadata": {},
   "outputs": [],
   "source": [
    "import plotly.graph_objects as go\n",
    "\n",
    "# Ordena o DataFrame pelos preços em ordem crescente\n",
    "top_5_terrenos_mais_baratos = df.sort_values(by='PREÇO DE VENDA').head(5)\n",
    "\n",
    "# Cria um mapa interativo com marcadores para cada terreno\n",
    "fig_top_5_baratos = go.Figure()\n",
    "\n",
    "# Adiciona marcadores personalizados para cada terreno\n",
    "for i, row in top_5_terrenos_mais_baratos.iterrows():\n",
    "    fig_top_5_baratos.add_trace(\n",
    "        go.Scattermapbox(\n",
    "            lat=[row['LATITUDE']],\n",
    "            lon=[row['LONGITUDE']],\n",
    "            text=[f\"Endereço: {row['ENDEREÇO']}<br>Preço de Venda: {row['PREÇO DE VENDA']}\"],\n",
    "            mode='markers',\n",
    "            marker=dict(size=15, color='blue'),\n",
    "            name=f\"Terreno {i+1}\"\n",
    "        )\n",
    "    )\n",
    "\n",
    "# Ajusta o layout do gráfico para usar um mapa do Mapbox\n",
    "fig_top_5_baratos.update_layout(mapbox_style=\"open-street-map\")\n",
    "fig_top_5_baratos.update_layout(margin={\"r\":0,\"t\":0,\"l\":0,\"b\":0})\n",
    "fig_top_5_baratos.update_layout(\n",
    "    mapbox=dict(\n",
    "        center=dict(lat=top_5_terrenos_mais_baratos['LATITUDE'].mean(), lon=top_5_terrenos_mais_baratos['LONGITUDE'].mean()),\n",
    "        zoom=10\n",
    "    )\n",
    ")\n",
    "\n",
    "# Exibe o gráfico interativo\n",
    "fig_top_5_baratos.show()\n"
   ]
  },
  {
   "cell_type": "code",
   "execution_count": null,
   "id": "c3267772",
   "metadata": {
    "scrolled": true
   },
   "outputs": [],
   "source": [
    "# Converte as colunas 'LATITUDE', 'LONGITUDE' e 'PREÇO DE VENDA' para tipo numérico\n",
    "df[['LATITUDE', 'LONGITUDE', 'PREÇO DE VENDA']] = df[['LATITUDE', 'LONGITUDE', 'PREÇO DE VENDA']].apply(pd.to_numeric, errors='coerce')\n",
    "\n",
    "# Calcula a média de preço por latitude e longitude\n",
    "media_preco_terrenos = df.groupby(['LATITUDE', 'LONGITUDE']).agg({'PREÇO DE VENDA': 'mean'}).reset_index()\n",
    "\n",
    "# Remove linhas com valores nulos\n",
    "media_preco_terrenos = media_preco_terrenos.dropna()\n",
    "\n",
    "# Cria um mapa interativo com marcadores para a média de preço\n",
    "fig_media_preco = go.Figure()\n",
    "\n",
    "# Adiciona marcadores personalizados para a média de preço\n",
    "for i, row in media_preco_terrenos.iterrows():\n",
    "    fig_media_preco.add_trace(\n",
    "        go.Scattermapbox(\n",
    "            lat=[row['LATITUDE']],\n",
    "            lon=[row['LONGITUDE']],\n",
    "            text=[f\"Média de Preço: {row['PREÇO DE VENDA']}\"],\n",
    "            mode='markers',\n",
    "            marker=dict(size=15, color='green'),\n",
    "            name=f\"Localização {i+1}\"\n",
    "        )\n",
    "    )\n",
    "\n",
    "# Ajusta o layout do gráfico para usar um mapa do Mapbox\n",
    "fig_media_preco.update_layout(mapbox_style=\"open-street-map\")\n",
    "fig_media_preco.update_layout(margin={\"r\":0,\"t\":0,\"l\":0,\"b\":0})\n",
    "fig_media_preco.update_layout(\n",
    "    mapbox=dict(\n",
    "        center=dict(lat=media_preco_terrenos['LATITUDE'].mean(), lon=media_preco_terrenos['LONGITUDE'].mean()),\n",
    "        zoom=10\n",
    "    )\n",
    ")\n",
    "\n",
    "# Exibe o gráfico interativo\n",
    "fig_media_preco.show()\n"
   ]
  },
  {
   "cell_type": "code",
   "execution_count": null,
   "id": "f1f45045",
   "metadata": {},
   "outputs": [],
   "source": [
    "# Verificar se a coluna 'LAND SQUARE FEET' existe no DataFrame\n",
    "if 'LAND SQUARE FEET' in df.columns:\n",
    "    # Converter 'LAND SQUARE FEET' para float (remover vírgulas e converter para float)\n",
    "    df['LAND SQUARE FEET'] = df['LAND SQUARE FEET'].replace(',', '', regex=True).astype(float)\n",
    "\n",
    "    # Calcular a área do terreno em metros quadrados\n",
    "    df['LAND SQUARE METERS'] = df['LAND SQUARE FEET'] * 0.092903\n",
    "\n",
    "    # Calcular o preço de venda por metro quadrado\n",
    "    df['PRICE PER SQM'] = df['SALE PRICE'] / df['LAND SQUARE METERS']\n",
    "\n",
    "    # Criar um ranking com base no preço de venda por metro quadrado\n",
    "    df['RANK'] = df['PRICE PER SQM'].rank(ascending=True)\n",
    "\n",
    "    # Exibir o DataFrame com o ranking\n",
    "    print(df[['ADDRESS', 'PRICE PER SQM', 'RANK']].sort_values(by='RANK').head(10))\n",
    "else:\n",
    "    print(\"A coluna 'LAND SQUARE FEET' não existe no DataFrame.\")\n"
   ]
  },
  {
   "cell_type": "code",
   "execution_count": null,
   "id": "a0522790",
   "metadata": {},
   "outputs": [],
   "source": [
    "df.columns"
   ]
  },
  {
   "cell_type": "code",
   "execution_count": null,
   "id": "59a18b30",
   "metadata": {},
   "outputs": [],
   "source": [
    "# Verificar se a coluna 'ÁREA DO TERRENO EM PÉS QUADRADOS' existe no DataFrame\n",
    "if 'ÁREA DO TERRENO EM PÉS QUADRADOS' in df.columns:\n",
    "    # Converter 'ÁREA DO TERRENO EM PÉS QUADRADOS' para float (remover vírgulas e converter para float)\n",
    "    df['ÁREA DO TERRENO EM PÉS QUADRADOS'] = df['ÁREA DO TERRENO EM PÉS QUADRADOS'].replace(',', '', regex=True).astype(float)\n",
    "\n",
    "    # Calcular a área do terreno em metros quadrados\n",
    "    df['ÁREA DO TERRENO (M²)'] = df['ÁREA DO TERRENO EM PÉS QUADRADOS'] * 0.092903\n",
    "\n",
    "    # Calcular o preço de venda por metro quadrado\n",
    "    df['PREÇO DE VENDA POR M²'] = df['PREÇO DE VENDA'] / df['ÁREA DO TERRENO (M²)']\n",
    "\n",
    "    # Criar um ranking com base no preço de venda por metro quadrado\n",
    "    df['Rank'] = df['PREÇO DE VENDA POR M²'].rank(ascending=True)\n",
    "\n",
    "    # Exibir o DataFrame com o ranking\n",
    "    print(df[['ENDEREÇO', 'PREÇO DE VENDA POR M²', 'Rank']].sort_values(by='Rank').head(10))\n",
    "else:\n",
    "    print(\"A coluna 'ÁREA DO TERRENO EM PÉS QUADRADOS' não existe no DataFrame.\")\n"
   ]
  },
  {
   "cell_type": "code",
   "execution_count": null,
   "id": "4e6d479d",
   "metadata": {},
   "outputs": [],
   "source": [
    "# Verificar se a coluna 'ÁREA DO TERRENO EM PÉS QUADRADOS' existe no DataFrame\n",
    "if 'ÁREA DO TERRENO EM PÉS QUADRADOS' in df.columns:\n",
    "    # Converter 'ÁREA DO TERRENO EM PÉS QUADRADOS' para float (remover vírgulas e converter para float)\n",
    "    df['ÁREA DO TERRENO EM PÉS QUADRADOS'] = df['ÁREA DO TERRENO EM PÉS QUADRADOS'].replace(',', '', regex=True).astype(float)\n",
    "\n",
    "    # Calcular a área do terreno em metros quadrados\n",
    "    df['ÁREA DO TERRENO (M²)'] = df['ÁREA DO TERRENO EM PÉS QUADRADOS'] * 0.092903\n",
    "\n",
    "    # Calcular o preço de venda por metro quadrado\n",
    "    df['PREÇO DE VENDA POR M²'] = df['PREÇO DE VENDA'] / df['ÁREA DO TERRENO (M²)']\n",
    "\n",
    "    # Criar um ranking com base no preço de venda por metro quadrado\n",
    "    df['Rank'] = df['PREÇO DE VENDA POR M²'].rank(ascending=True)\n",
    "\n",
    "    # Exibir o DataFrame com o ranking dos 10 piores terrenos\n",
    "    print(df[['ENDEREÇO', 'PREÇO DE VENDA POR M²', 'Rank']].sort_values(by='Rank', ascending=False).head(10))\n",
    "else:\n",
    "    print(\"A coluna 'ÁREA DO TERRENO EM PÉS QUADRADOS' não existe no DataFrame.\")\n"
   ]
  },
  {
   "cell_type": "code",
   "execution_count": null,
   "id": "40c79845",
   "metadata": {},
   "outputs": [],
   "source": [
    "# Calcular a média do preço de venda por metro quadrado\n",
    "media_preco_m2 = df['PREÇO DE VENDA POR M²'].mean()\n",
    "\n",
    "# Criar uma coluna indicando se o terreno está dentro da média de preço\n",
    "df['DENTRO DA MÉDIA'] = df['PREÇO DE VENDA POR M²'] <= media_preco_m2\n",
    "\n",
    "# Filtrar apenas os terrenos dentro da média de preço\n",
    "terrenos_na_media = df[df['DENTRO DA MÉDIA']]\n",
    "\n",
    "# Criar um ranking com base no preço de venda por metro quadrado para os terrenos dentro da média\n",
    "terrenos_na_media['Rank'] = terrenos_na_media['PREÇO DE VENDA POR M²'].rank(ascending=True)\n",
    "\n",
    "# Exibir o DataFrame com o ranking dos terrenos dentro da média\n",
    "print(terrenos_na_media[['ENDEREÇO', 'PREÇO DE VENDA POR M²', 'Rank']].sort_values(by='Rank').head(10))\n"
   ]
  },
  {
   "cell_type": "code",
   "execution_count": null,
   "id": "bf7351ea",
   "metadata": {},
   "outputs": [],
   "source": [
    "# Criar um ranking com base no preço de venda por metro quadrado para todo o DataFrame\n",
    "df['Rank'] = df['PREÇO DE VENDA POR M²'].rank(ascending=True)\n",
    "\n",
    "# Exibir o DataFrame com o ranking de todos os terrenos\n",
    "ranking_terrenos = df[['ENDEREÇO', 'PREÇO DE VENDA POR M²', 'Rank']].sort_values(by='Rank')\n",
    "print(ranking_terrenos)\n"
   ]
  },
  {
   "cell_type": "code",
   "execution_count": null,
   "id": "12e4c92d",
   "metadata": {},
   "outputs": [],
   "source": [
    "import plotly.express as px\n",
    "\n",
    "# Filtrar os 10 melhores terrenos\n",
    "top_10_terrenos = df.nsmallest(10, 'Rank')\n",
    "\n",
    "# Criar um gráfico de dispersão interativo\n",
    "fig = px.scatter_mapbox(\n",
    "    top_10_terrenos,\n",
    "    lat='LATITUDE',\n",
    "    lon='LONGITUDE',\n",
    "    text='ENDEREÇO',\n",
    "    color='Rank',\n",
    "    size='PREÇO DE VENDA POR M²',\n",
    "    color_continuous_scale=px.colors.sequential.Plasma,\n",
    "    size_max=15,\n",
    "    title='Melhores Terrenos para Aquisição',\n",
    "    labels={'Rank': 'Ranking', 'PREÇO DE VENDA POR M²': 'Preço por m²'},\n",
    "    hover_name='ENDEREÇO'\n",
    ")\n",
    "\n",
    "# Personalizar o layout do mapa\n",
    "fig.update_layout(\n",
    "    mapbox_style=\"open-street-map\",\n",
    "    mapbox=dict(\n",
    "        zoom=10,\n",
    "        center=dict(lat=top_10_terrenos['LATITUDE'].mean(), lon=top_10_terrenos['LONGITUDE'].mean())\n",
    "    )\n",
    ")\n",
    "\n",
    "# Exibir o gráfico interativo\n",
    "fig.show()\n"
   ]
  },
  {
   "cell_type": "code",
   "execution_count": null,
   "id": "1085e96d",
   "metadata": {},
   "outputs": [],
   "source": [
    "import plotly.express as px\n",
    "\n",
    "# Filtrar os 10 piores terrenos\n",
    "piores_terrenos = df.nlargest(10, 'Rank')\n",
    "\n",
    "# Criar um gráfico de dispersão interativo\n",
    "fig = px.scatter_mapbox(\n",
    "    piores_terrenos,\n",
    "    lat='LATITUDE',\n",
    "    lon='LONGITUDE',\n",
    "    text='ENDEREÇO',\n",
    "    color='Rank',\n",
    "    size='PREÇO DE VENDA POR M²',\n",
    "    color_continuous_scale=px.colors.sequential.Plasma_r,\n",
    "    size_max=15,\n",
    "    title='Piores Terrenos para Aquisição',\n",
    "    labels={'Rank': 'Ranking', 'PREÇO DE VENDA POR M²': 'Preço por m²'},\n",
    "    hover_name='ENDEREÇO'\n",
    ")\n",
    "\n",
    "# Personalizar o layout do mapa\n",
    "fig.update_layout(\n",
    "    mapbox_style=\"open-street-map\",\n",
    "    mapbox=dict(\n",
    "        zoom=10,\n",
    "        center=dict(lat=piores_terrenos['LATITUDE'].mean(), lon=piores_terrenos['LONGITUDE'].mean())\n",
    "    )\n",
    ")\n",
    "\n",
    "# Exibir o gráfico interativo\n",
    "fig.show()\n"
   ]
  },
  {
   "cell_type": "code",
   "execution_count": null,
   "id": "097c9573",
   "metadata": {},
   "outputs": [],
   "source": []
  }
 ],
 "metadata": {
  "kernelspec": {
   "display_name": "Python 3 (ipykernel)",
   "language": "python",
   "name": "python3"
  },
  "language_info": {
   "codemirror_mode": {
    "name": "ipython",
    "version": 3
   },
   "file_extension": ".py",
   "mimetype": "text/x-python",
   "name": "python",
   "nbconvert_exporter": "python",
   "pygments_lexer": "ipython3",
   "version": "3.11.5"
  }
 },
 "nbformat": 4,
 "nbformat_minor": 5
}
